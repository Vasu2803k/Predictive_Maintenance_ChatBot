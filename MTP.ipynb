{
  "cells": [
    {
      "cell_type": "code",
      "execution_count": null,
      "metadata": {
        "id": "XvWprZoYFTfH"
      },
      "outputs": [],
      "source": [
        "import numpy as np\n",
        "import pandas as pd\n",
        "import matplotlib.pyplot as plt"
      ]
    },
    {
      "cell_type": "code",
      "source": [
        "pd.set_option('display.max_colwidth', None)"
      ],
      "metadata": {
        "id": "xwBizGLcc6ix"
      },
      "execution_count": null,
      "outputs": []
    },
    {
      "cell_type": "code",
      "execution_count": null,
      "metadata": {
        "id": "8J4bQuboru8v"
      },
      "outputs": [],
      "source": [
        "import warnings\n",
        "warnings.filterwarnings(\"ignore\")\n",
        "warnings.simplefilter(action='ignore', category=FutureWarning)"
      ]
    },
    {
      "cell_type": "code",
      "execution_count": null,
      "metadata": {
        "id": "xMeykkinEPfA",
        "colab": {
          "base_uri": "https://localhost:8080/",
          "height": 1000
        },
        "outputId": "736e1c96-1c5d-40f5-f15d-c058676f2c04"
      },
      "outputs": [
        {
          "output_type": "stream",
          "name": "stdout",
          "text": [
            "Mounted at /content/gdrive/\n",
            "--> Dataset.....\n",
            "  Equipment/ Other Sub equipment (if applicable)              Down time issue  \\\n",
            "0           Sleeve                         Mould  water leakage from spt side   \n",
            "1           Sleeve                         Mould  water leakage from spt side   \n",
            "2              MTC                           ccm            m/c under to mech   \n",
            "3              Mtc                           Mtc             gland tightning    \n",
            "4      Core loader                   Core loader  Core loader centering prob    \n",
            "\n",
            "  Machine/ process stop time Machine/ process start time  \\\n",
            "0                   20:57:00                    21:42:00   \n",
            "1                   19:38:00         1900-01-01 00:18:00   \n",
            "2                   11:45:00                    12:50:00   \n",
            "3                   23:00:00         1900-01-01 00:00:00   \n",
            "4        1900-01-01 00:00:00         1900-01-01 00:15:00   \n",
            "\n",
            "   Time taken (Duration) Type ( B/D,PM,SC,Process Attended by - department  \\\n",
            "0               0.750000                      B/D               Mechanical   \n",
            "1               4.666667                      B/D               Mechanical   \n",
            "2               1.083333                      B/D               Mechanical   \n",
            "3               1.000000                      B/D               Mechanical   \n",
            "4               0.250000                      B/D               Mechanical   \n",
            "\n",
            "  Attended by - senior PM/ PC/ other  \\\n",
            "0                                NaN   \n",
            "1                             Tapash   \n",
            "2                                NaN   \n",
            "3                           Srikanta   \n",
            "4                           Srikanta   \n",
            "\n",
            "                                                                     Issue  \\\n",
            "0  Spt seal got damage as metal got inside resulting in huge water leakage   \n",
            "1                    Huge water leakage from spt taper plate gap in bottom   \n",
            "2                                               oil leakage from mtc gland   \n",
            "3                       mtc gland leakage + m/c automatically getting down   \n",
            "4                                                                No record   \n",
            "\n",
            "   ... Unnamed: 48 Unnamed: 49  Unnamed: 50  Unnamed: 51  Unnamed: 52  \\\n",
            "0  ...         NaN         NaN          NaN          NaN          NaN   \n",
            "1  ...         NaN         NaN          NaN          NaN          NaN   \n",
            "2  ...         NaN         NaN          NaN          NaN          NaN   \n",
            "3  ...         NaN         NaN          NaN          NaN          NaN   \n",
            "4  ...         NaN         NaN          NaN          NaN          NaN   \n",
            "\n",
            "   Unnamed: 53  Unnamed: 54  Unnamed: 55  Unnamed: 56  Unnamed: 57  \n",
            "0          NaN          NaN          NaN          NaN          NaN  \n",
            "1          NaN          NaN          NaN          NaN          NaN  \n",
            "2          NaN          NaN          NaN          NaN          NaN  \n",
            "3          NaN          NaN          NaN          NaN          NaN  \n",
            "4          NaN          NaN          NaN          NaN          NaN  \n",
            "\n",
            "[5 rows x 58 columns]\n",
            "--> Dataset shape (rowsXcolumns)\n",
            "(1609, 58)\n",
            "\n",
            "\n",
            "\n",
            "--> Dataset shape (rowsXcolumns)\n",
            "(1609, 11)\n",
            "\n",
            "\n",
            "\n",
            "--> Dataset information\n",
            "<class 'pandas.core.frame.DataFrame'>\n",
            "RangeIndex: 1609 entries, 0 to 1608\n",
            "Data columns (total 11 columns):\n",
            " #   Column                              Non-Null Count  Dtype  \n",
            "---  ------                              --------------  -----  \n",
            " 0   Equipment/ Other                    1606 non-null   object \n",
            " 1   Sub equipment (if applicable)       1606 non-null   object \n",
            " 2   Down time issue                     1606 non-null   object \n",
            " 3   Machine/ process stop time          1606 non-null   object \n",
            " 4   Machine/ process start time         1606 non-null   object \n",
            " 5   Time taken (Duration)               1606 non-null   float64\n",
            " 6   Type ( B/D,PM,SC,Process            1606 non-null   object \n",
            " 7   Attended by - department            1606 non-null   object \n",
            " 8   Attended by - senior PM/ PC/ other  39 non-null     object \n",
            " 9   Issue                               667 non-null    object \n",
            " 10  Temporary action taken              575 non-null    object \n",
            "dtypes: float64(1), object(10)\n",
            "memory usage: 138.4+ KB\n",
            "None\n",
            "\n",
            "\n",
            "\n",
            "Total number of NULL values\n",
            "Equipment/ Other                         3\n",
            "Sub equipment (if applicable)            3\n",
            "Down time issue                          3\n",
            "Machine/ process stop time               3\n",
            "Machine/ process start time              3\n",
            "Time taken (Duration)                    3\n",
            "Type ( B/D,PM,SC,Process                 3\n",
            "Attended by - department                 3\n",
            "Attended by - senior PM/ PC/ other    1570\n",
            "Issue                                  942\n",
            "Temporary action taken                1034\n",
            "dtype: int64\n",
            "\n",
            "\n",
            "\n"
          ]
        },
        {
          "output_type": "display_data",
          "data": {
            "text/plain": [
              "<Figure size 1400x1000 with 1 Axes>"
            ],
            "image/png": "[encoded data removed]"
          },
          "metadata": {}
        },
        {
          "output_type": "stream",
          "name": "stdout",
          "text": [
            "\n",
            "\n",
            "\n",
            "Nuber of non-null values\n",
            "Index(['Equipment/ Other', 'Sub equipment (if applicable)', 'Down time issue',\n",
            "       'Machine/ process stop time', 'Machine/ process start time',\n",
            "       'Time taken (Duration)', 'Type ( B/D,PM,SC,Process',\n",
            "       'Attended by - department', 'Attended by - senior PM/ PC/ other',\n",
            "       'Issue', 'Temporary action taken'],\n",
            "      dtype='object')\n",
            "\n",
            "\n",
            "\n",
            "--> Dataset shape (rowsXcolumns)\n",
            "(1609, 11)\n",
            "\n",
            "\n",
            "\n",
            "--> Number of unique values\n",
            "Equipment/ Other                       97\n",
            "Sub equipment (if applicable)          97\n",
            "Down time issue                       740\n",
            "Machine/ process stop time            738\n",
            "Machine/ process start time           769\n",
            "Time taken (Duration)                 497\n",
            "Type ( B/D,PM,SC,Process                4\n",
            "Attended by - department               10\n",
            "Attended by - senior PM/ PC/ other      8\n",
            "Issue                                 466\n",
            "Temporary action taken                442\n",
            "dtype: int64\n",
            "\n",
            "\n",
            "\n"
          ]
        },
        {
          "output_type": "display_data",
          "data": {
            "text/plain": [
              "<Figure size 1400x1000 with 1 Axes>"
            ],
            "image/png": "[encoded data removed]"
          },
          "metadata": {}
        }
      ],
      "source": [
        "#dir_path=\"Downtime Logs Casting.xlsx\"\n",
        "from google.colab import drive\n",
        "drive.mount('/content/gdrive/', force_remount=True)\n",
        "\n",
        "dir_path=\"//content//gdrive//MyDrive//Projects//MTP-I//Downtime Logs Casting.xlsx\"\n",
        "\n",
        "dataset=pd.read_excel(dir_path, sheet_name='Mech')\n",
        "\n",
        "print(\"--> Dataset.....\")\n",
        "print(dataset.head())\n",
        "\n",
        "#dataset.columns=dataset.values[0]\n",
        "\n",
        "#dataset.drop(0, inplace=True)\n",
        "print(\"--> Dataset shape (rowsXcolumns)\")\n",
        "print(dataset.shape)\n",
        "print(\"\\n\\n\")\n",
        "\n",
        "dataset=dataset[dataset.columns[0:11]]\n",
        "\n",
        "\n",
        "print(\"--> Dataset shape (rowsXcolumns)\")\n",
        "print(dataset.shape)\n",
        "print(\"\\n\\n\")\n",
        "\n",
        "print(\"--> Dataset information\")\n",
        "print(dataset.info())\n",
        "print(\"\\n\\n\")\n",
        "\n",
        "print(\"Total number of NULL values\")\n",
        "print(dataset.isnull().sum())\n",
        "print(\"\\n\\n\")\n",
        "\n",
        "\n",
        "def add_labels(x,y):\n",
        "    for i in range(len(x)):\n",
        "        plt.text(i, y[i]//2,y[i], ha='center')\n",
        "\n",
        "plt.figure(figsize=(14,10))\n",
        "plt.bar(dataset.notnull().sum().index, dataset.notnull().sum().values)\n",
        "plt.title(\"Values vs Features\")\n",
        "plt.xticks(rotation='vertical')\n",
        "add_labels(dataset.notnull().sum().index, dataset.notnull().sum().values)\n",
        "plt.show()\n",
        "\n",
        "print(\"\\n\\n\")\n",
        "print(\"Nuber of non-null values\")\n",
        "print(dataset.notnull().sum().index)\n",
        "print(\"\\n\\n\")\n",
        "# the number of issues present - 667 out of 1606 data values\n",
        "# the number of temporary action taken - 575\n",
        "# No of issues where indusrty expert attended to solve it - 39\n",
        "print(\"--> Dataset shape (rowsXcolumns)\")\n",
        "print(dataset.shape)\n",
        "print(\"\\n\\n\")\n",
        "\n",
        "print(\"--> Number of unique values\")\n",
        "print(dataset.nunique())\n",
        "print(\"\\n\\n\")\n",
        "\n",
        "\"\"\"# Removing rows which do not have issues and actions\"\"\"\n",
        "\n",
        "dataset.dropna(subset=[\"Issue\",\"Temporary action taken\"], inplace=True)\n",
        "\n",
        "dataset.reset_index(inplace=True, drop=True)\n",
        "\n",
        "def add_labels(x,y):\n",
        "    for i in range(len(x)):\n",
        "        plt.text(i, y[i]//2,y[i], ha='center')\n",
        "\n",
        "plt.figure(figsize=(14,10))\n",
        "plt.bar(dataset.notnull().sum().index, dataset.notnull().sum().values)\n",
        "plt.title(\"Values vs Features\")\n",
        "plt.xticks(rotation='vertical')\n",
        "add_labels(dataset.notnull().sum().index, dataset.notnull().sum().values)\n",
        "plt.show()"
      ]
    },
    {
      "cell_type": "code",
      "execution_count": null,
      "metadata": {
        "id": "VzS5ng8TAkQA"
      },
      "outputs": [],
      "source": [
        "# the number of issues present - 667 out of 1606 data values (Non NULL)\n",
        "# the number of temporary action taken - 575 (Non NULL)\n",
        "# Total number of issues with the solutions = 572 issues and respective solutions (Removing if there is no issue and solution present)"
      ]
    },
    {
      "cell_type": "markdown",
      "metadata": {
        "id": "tjnoojvFBpEB"
      },
      "source": [
        "# Objective: Estimation of temporary action given the mechanical issue\n",
        "\n",
        "Feature Engineering\n",
        "\n"
      ]
    },
    {
      "cell_type": "code",
      "execution_count": null,
      "metadata": {
        "id": "oCwqfszwBmRp"
      },
      "outputs": [],
      "source": [
        "# Feature selection\n",
        "# For the time being to generate the temporary action given an issue, consider equipment, sub equipment, downtime issue\n",
        "# issue and temporary action - To predict the action these features will have significant impact\n",
        "\n",
        "columns=dataset.columns\n",
        "\n",
        "final_dataset=dataset[[columns[0], columns[1], columns[2], columns[9], columns[10]]]\n",
        "\n",
        "final_columns=final_dataset.columns"
      ]
    },
    {
      "cell_type": "code",
      "execution_count": null,
      "metadata": {
        "id": "bkp_SlXPHHCh"
      },
      "outputs": [],
      "source": [
        "new_column_names={\"Equipment/ Other\":\"Equipment\", \"Sub equipment (if applicable)\":\"SubEquipment\",\"Down time issue\":\"Down Time Issue\", \"Issue\":\"Issue\", \"Temporary action taken\":\"Action\"}\n",
        "final_dataset = final_dataset.rename(columns=new_column_names)\n",
        "final_columns=final_dataset.columns"
      ]
    },
    {
      "cell_type": "code",
      "source": [
        "'''\n",
        "column_to_move = final_dataset.pop(\"Down Time Issue\")\n",
        "\n",
        "# insert column with insert(location, column_name, column_value)\n",
        "\n",
        "final_dataset.insert(3, \"Down Time Issue\", column_to_move)\n",
        "'''"
      ],
      "metadata": {
        "id": "CVNI-ZTmhNTe",
        "colab": {
          "base_uri": "https://localhost:8080/",
          "height": 36
        },
        "outputId": "1d12da91-ac57-4720-855c-1e5378bac509"
      },
      "execution_count": null,
      "outputs": [
        {
          "output_type": "execute_result",
          "data": {
            "text/plain": [
              "'\\ncolumn_to_move = final_dataset.pop(\"Down Time Issue\")\\n\\n# insert column with insert(location, column_name, column_value)\\n\\nfinal_dataset.insert(3, \"Down Time Issue\", column_to_move)\\n'"
            ],
            "application/vnd.google.colaboratory.intrinsic+json": {
              "type": "string"
            }
          },
          "metadata": {},
          "execution_count": 8
        }
      ]
    },
    {
      "cell_type": "code",
      "source": [
        "final_dataset"
      ],
      "metadata": {
        "id": "KVcbUi9flxj9",
        "colab": {
          "base_uri": "https://localhost:8080/",
          "height": 493
        },
        "outputId": "06e2c68f-0dbc-42cc-add6-00a61df51ada"
      },
      "execution_count": null,
      "outputs": [
        {
          "output_type": "execute_result",
          "data": {
            "text/plain": [
              "     Equipment SubEquipment                               Down Time Issue  \\\n",
              "0       Sleeve        Mould                   water leakage from spt side   \n",
              "1       Sleeve        Mould                   water leakage from spt side   \n",
              "2          MTC          ccm                             m/c under to mech   \n",
              "3          Mtc          Mtc                              gland tightning    \n",
              "4          Mtc          Mtc                                     Mtc prob    \n",
              "..         ...          ...                                           ...   \n",
              "567    Diabola      Diabola      Diabola rail out & diabola wheel damage    \n",
              "568  Extractor    Extractor  Extractor not clossing & back stopper broken   \n",
              "569    Diabola      Diabola                                Diabola derail   \n",
              "570    Trough       Trough                    A side tilting hose damage    \n",
              "571     Mould        Mould                    water leakage from skt side   \n",
              "\n",
              "                                                                                                                                        Issue  \\\n",
              "0                                                                     Spt seal got damage as metal got inside resulting in huge water leakage   \n",
              "1                                                                                       Huge water leakage from spt taper plate gap in bottom   \n",
              "2                                                                                                                  oil leakage from mtc gland   \n",
              "3                                                                                          mtc gland leakage + m/c automatically getting down   \n",
              "4                                                                                     casting time variation + m/c automatically getting down   \n",
              "..                                                                                                                                        ...   \n",
              "567                                                                                            Diabola Trolley B-Side V roller bearing damage   \n",
              "568  Extractor Stopper got out from hinge and plate got bend due to Extractor getting back in Jaw Open Position had impact with Stopper Plate   \n",
              "569                                                                                    Diabola Trolley A-Side V-Wheel Derailed due to Jamming   \n",
              "570                                                                                                          A-Side Trough Tilting Hose Burst   \n",
              "571                                           A-Side Socket Roller Adjusting Lock Nut Hugw Water Leakage due to Lock Nut Welding Joint Broken   \n",
              "\n",
              "                                                                               Action  \n",
              "0                                                                    Spt seal changed  \n",
              "1    Spt taper plate bolts hole thread were tapped and tightly fitted with new bolts.  \n",
              "2                   in mtc gland packing was given and mounting bolts were made tight  \n",
              "3                                                                mtc gland made tight  \n",
              "4                                               mtc gland made tight + Sleeve changed  \n",
              "..                                                                                ...  \n",
              "567                                                                    Roller changed  \n",
              "568            Plate made strainght and stopper height decreased by 10mm. OK in trial  \n",
              "569                           V-Wheel Changed after putting the trolley back on track  \n",
              "570                                                                      Hose Changed  \n",
              "571                            Didn't arrest by Sacking so water drained and rewelded  \n",
              "\n",
              "[572 rows x 5 columns]"
            ],
            "text/html": [
              "\n",
              "  <div id=\"df-7ef9a423-85cf-46f6-a31b-32395b80aabe\" class=\"colab-df-container\">\n",
              "    <div>\n",
              "<style scoped>\n",
              "    .dataframe tbody tr th:only-of-type {\n",
              "        vertical-align: middle;\n",
              "    }\n",
              "\n",
              "    .dataframe tbody tr th {\n",
              "        vertical-align: top;\n",
              "    }\n",
              "\n",
              "    .dataframe thead th {\n",
              "        text-align: right;\n",
              "    }\n",
              "</style>\n",
              "<table border=\"1\" class=\"dataframe\">\n",
              "  <thead>\n",
              "    <tr style=\"text-align: right;\">\n",
              "      <th></th>\n",
              "      <th>Equipment</th>\n",
              "      <th>SubEquipment</th>\n",
              "      <th>Down Time Issue</th>\n",
              "      <th>Issue</th>\n",
              "      <th>Action</th>\n",
              "    </tr>\n",
              "  </thead>\n",
              "  <tbody>\n",
              "    <tr>\n",
              "      <th>0</th>\n",
              "      <td>Sleeve</td>\n",
              "      <td>Mould</td>\n",
              "      <td>water leakage from spt side</td>\n",
              "      <td>Spt seal got damage as metal got inside resulting in huge water leakage</td>\n",
              "      <td>Spt seal changed</td>\n",
              "    </tr>\n",
              "    <tr>\n",
              "      <th>1</th>\n",
              "      <td>Sleeve</td>\n",
              "      <td>Mould</td>\n",
              "      <td>water leakage from spt side</td>\n",
              "      <td>Huge water leakage from spt taper plate gap in bottom</td>\n",
              "      <td>Spt taper plate bolts hole thread were tapped and tightly fitted with new bolts.</td>\n",
              "    </tr>\n",
              "    <tr>\n",
              "      <th>2</th>\n",
              "      <td>MTC</td>\n",
              "      <td>ccm</td>\n",
              "      <td>m/c under to mech</td>\n",
              "      <td>oil leakage from mtc gland</td>\n",
              "      <td>in mtc gland packing was given and mounting bolts were made tight</td>\n",
              "    </tr>\n",
              "    <tr>\n",
              "      <th>3</th>\n",
              "      <td>Mtc</td>\n",
              "      <td>Mtc</td>\n",
              "      <td>gland tightning</td>\n",
              "      <td>mtc gland leakage + m/c automatically getting down</td>\n",
              "      <td>mtc gland made tight</td>\n",
              "    </tr>\n",
              "    <tr>\n",
              "      <th>4</th>\n",
              "      <td>Mtc</td>\n",
              "      <td>Mtc</td>\n",
              "      <td>Mtc prob</td>\n",
              "      <td>casting time variation + m/c automatically getting down</td>\n",
              "      <td>mtc gland made tight + Sleeve changed</td>\n",
              "    </tr>\n",
              "    <tr>\n",
              "      <th>...</th>\n",
              "      <td>...</td>\n",
              "      <td>...</td>\n",
              "      <td>...</td>\n",
              "      <td>...</td>\n",
              "      <td>...</td>\n",
              "    </tr>\n",
              "    <tr>\n",
              "      <th>567</th>\n",
              "      <td>Diabola</td>\n",
              "      <td>Diabola</td>\n",
              "      <td>Diabola rail out &amp; diabola wheel damage</td>\n",
              "      <td>Diabola Trolley B-Side V roller bearing damage</td>\n",
              "      <td>Roller changed</td>\n",
              "    </tr>\n",
              "    <tr>\n",
              "      <th>568</th>\n",
              "      <td>Extractor</td>\n",
              "      <td>Extractor</td>\n",
              "      <td>Extractor not clossing &amp; back stopper broken</td>\n",
              "      <td>Extractor Stopper got out from hinge and plate got bend due to Extractor getting back in Jaw Open Position had impact with Stopper Plate</td>\n",
              "      <td>Plate made strainght and stopper height decreased by 10mm. OK in trial</td>\n",
              "    </tr>\n",
              "    <tr>\n",
              "      <th>569</th>\n",
              "      <td>Diabola</td>\n",
              "      <td>Diabola</td>\n",
              "      <td>Diabola derail</td>\n",
              "      <td>Diabola Trolley A-Side V-Wheel Derailed due to Jamming</td>\n",
              "      <td>V-Wheel Changed after putting the trolley back on track</td>\n",
              "    </tr>\n",
              "    <tr>\n",
              "      <th>570</th>\n",
              "      <td>Trough</td>\n",
              "      <td>Trough</td>\n",
              "      <td>A side tilting hose damage</td>\n",
              "      <td>A-Side Trough Tilting Hose Burst</td>\n",
              "      <td>Hose Changed</td>\n",
              "    </tr>\n",
              "    <tr>\n",
              "      <th>571</th>\n",
              "      <td>Mould</td>\n",
              "      <td>Mould</td>\n",
              "      <td>water leakage from skt side</td>\n",
              "      <td>A-Side Socket Roller Adjusting Lock Nut Hugw Water Leakage due to Lock Nut Welding Joint Broken</td>\n",
              "      <td>Didn't arrest by Sacking so water drained and rewelded</td>\n",
              "    </tr>\n",
              "  </tbody>\n",
              "</table>\n",
              "<p>572 rows × 5 columns</p>\n",
              "</div>\n",
              "    <div class=\"colab-df-buttons\">\n",
              "\n",
              "  <div class=\"colab-df-container\">\n",
              "    <button class=\"colab-df-convert\" onclick=\"convertToInteractive('df-7ef9a423-85cf-46f6-a31b-32395b80aabe')\"\n",
              "            title=\"Convert this dataframe to an interactive table.\"\n",
              "            style=\"display:none;\">\n",
              "\n",
              "  <svg xmlns=\"http://www.w3.org/2000/svg\" height=\"24px\" viewBox=\"0 -960 960 960\">\n",
              "    <path d=\"M120-120v-720h720v720H120Zm60-500h600v-160H180v160Zm220 220h160v-160H400v160Zm0 220h160v-160H400v160ZM180-400h160v-160H180v160Zm440 0h160v-160H620v160ZM180-180h160v-160H180v160Zm440 0h160v-160H620v160Z\"/>\n",
              "  </svg>\n",
              "    </button>\n",
              "\n",
              "  <style>\n",
              "    .colab-df-container {\n",
              "      display:flex;\n",
              "      gap: 12px;\n",
              "    }\n",
              "\n",
              "    .colab-df-convert {\n",
              "      background-color: #E8F0FE;\n",
              "      border: none;\n",
              "      border-radius: 50%;\n",
              "      cursor: pointer;\n",
              "      display: none;\n",
              "      fill: #1967D2;\n",
              "      height: 32px;\n",
              "      padding: 0 0 0 0;\n",
              "      width: 32px;\n",
              "    }\n",
              "\n",
              "    .colab-df-convert:hover {\n",
              "      background-color: #E2EBFA;\n",
              "      box-shadow: 0px 1px 2px rgba(60, 64, 67, 0.3), 0px 1px 3px 1px rgba(60, 64, 67, 0.15);\n",
              "      fill: #174EA6;\n",
              "    }\n",
              "\n",
              "    .colab-df-buttons div {\n",
              "      margin-bottom: 4px;\n",
              "    }\n",
              "\n",
              "    [theme=dark] .colab-df-convert {\n",
              "      background-color: #3B4455;\n",
              "      fill: #D2E3FC;\n",
              "    }\n",
              "\n",
              "    [theme=dark] .colab-df-convert:hover {\n",
              "      background-color: #434B5C;\n",
              "      box-shadow: 0px 1px 3px 1px rgba(0, 0, 0, 0.15);\n",
              "      filter: drop-shadow(0px 1px 2px rgba(0, 0, 0, 0.3));\n",
              "      fill: #FFFFFF;\n",
              "    }\n",
              "  </style>\n",
              "\n",
              "    <script>\n",
              "      const buttonEl =\n",
              "        document.querySelector('#df-7ef9a423-85cf-46f6-a31b-32395b80aabe button.colab-df-convert');\n",
              "      buttonEl.style.display =\n",
              "        google.colab.kernel.accessAllowed ? 'block' : 'none';\n",
              "\n",
              "      async function convertToInteractive(key) {\n",
              "        const element = document.querySelector('#df-7ef9a423-85cf-46f6-a31b-32395b80aabe');\n",
              "        const dataTable =\n",
              "          await google.colab.kernel.invokeFunction('convertToInteractive',\n",
              "                                                    [key], {});\n",
              "        if (!dataTable) return;\n",
              "\n",
              "        const docLinkHtml = 'Like what you see? Visit the ' +\n",
              "          '<a target=\"_blank\" href=https://colab.research.google.com/notebooks/data_table.ipynb>data table notebook</a>'\n",
              "          + ' to learn more about interactive tables.';\n",
              "        element.innerHTML = '';\n",
              "        dataTable['output_type'] = 'display_data';\n",
              "        await google.colab.output.renderOutput(dataTable, element);\n",
              "        const docLink = document.createElement('div');\n",
              "        docLink.innerHTML = docLinkHtml;\n",
              "        element.appendChild(docLink);\n",
              "      }\n",
              "    </script>\n",
              "  </div>\n",
              "\n",
              "\n",
              "<div id=\"df-7be0a21b-7fc1-4a1c-a4d7-2d8ec792ed8e\">\n",
              "  <button class=\"colab-df-quickchart\" onclick=\"quickchart('df-7be0a21b-7fc1-4a1c-a4d7-2d8ec792ed8e')\"\n",
              "            title=\"Suggest charts\"\n",
              "            style=\"display:none;\">\n",
              "\n",
              "<svg xmlns=\"http://www.w3.org/2000/svg\" height=\"24px\"viewBox=\"0 0 24 24\"\n",
              "     width=\"24px\">\n",
              "    <g>\n",
              "        <path d=\"M19 3H5c-1.1 0-2 .9-2 2v14c0 1.1.9 2 2 2h14c1.1 0 2-.9 2-2V5c0-1.1-.9-2-2-2zM9 17H7v-7h2v7zm4 0h-2V7h2v10zm4 0h-2v-4h2v4z\"/>\n",
              "    </g>\n",
              "</svg>\n",
              "  </button>\n",
              "\n",
              "<style>\n",
              "  .colab-df-quickchart {\n",
              "      --bg-color: #E8F0FE;\n",
              "      --fill-color: #1967D2;\n",
              "      --hover-bg-color: #E2EBFA;\n",
              "      --hover-fill-color: #174EA6;\n",
              "      --disabled-fill-color: #AAA;\n",
              "      --disabled-bg-color: #DDD;\n",
              "  }\n",
              "\n",
              "  [theme=dark] .colab-df-quickchart {\n",
              "      --bg-color: #3B4455;\n",
              "      --fill-color: #D2E3FC;\n",
              "      --hover-bg-color: #434B5C;\n",
              "      --hover-fill-color: #FFFFFF;\n",
              "      --disabled-bg-color: #3B4455;\n",
              "      --disabled-fill-color: #666;\n",
              "  }\n",
              "\n",
              "  .colab-df-quickchart {\n",
              "    background-color: var(--bg-color);\n",
              "    border: none;\n",
              "    border-radius: 50%;\n",
              "    cursor: pointer;\n",
              "    display: none;\n",
              "    fill: var(--fill-color);\n",
              "    height: 32px;\n",
              "    padding: 0;\n",
              "    width: 32px;\n",
              "  }\n",
              "\n",
              "  .colab-df-quickchart:hover {\n",
              "    background-color: var(--hover-bg-color);\n",
              "    box-shadow: 0 1px 2px rgba(60, 64, 67, 0.3), 0 1px 3px 1px rgba(60, 64, 67, 0.15);\n",
              "    fill: var(--button-hover-fill-color);\n",
              "  }\n",
              "\n",
              "  .colab-df-quickchart-complete:disabled,\n",
              "  .colab-df-quickchart-complete:disabled:hover {\n",
              "    background-color: var(--disabled-bg-color);\n",
              "    fill: var(--disabled-fill-color);\n",
              "    box-shadow: none;\n",
              "  }\n",
              "\n",
              "  .colab-df-spinner {\n",
              "    border: 2px solid var(--fill-color);\n",
              "    border-color: transparent;\n",
              "    border-bottom-color: var(--fill-color);\n",
              "    animation:\n",
              "      spin 1s steps(1) infinite;\n",
              "  }\n",
              "\n",
              "  @keyframes spin {\n",
              "    0% {\n",
              "      border-color: transparent;\n",
              "      border-bottom-color: var(--fill-color);\n",
              "      border-left-color: var(--fill-color);\n",
              "    }\n",
              "    20% {\n",
              "      border-color: transparent;\n",
              "      border-left-color: var(--fill-color);\n",
              "      border-top-color: var(--fill-color);\n",
              "    }\n",
              "    30% {\n",
              "      border-color: transparent;\n",
              "      border-left-color: var(--fill-color);\n",
              "      border-top-color: var(--fill-color);\n",
              "      border-right-color: var(--fill-color);\n",
              "    }\n",
              "    40% {\n",
              "      border-color: transparent;\n",
              "      border-right-color: var(--fill-color);\n",
              "      border-top-color: var(--fill-color);\n",
              "    }\n",
              "    60% {\n",
              "      border-color: transparent;\n",
              "      border-right-color: var(--fill-color);\n",
              "    }\n",
              "    80% {\n",
              "      border-color: transparent;\n",
              "      border-right-color: var(--fill-color);\n",
              "      border-bottom-color: var(--fill-color);\n",
              "    }\n",
              "    90% {\n",
              "      border-color: transparent;\n",
              "      border-bottom-color: var(--fill-color);\n",
              "    }\n",
              "  }\n",
              "</style>\n",
              "\n",
              "  <script>\n",
              "    async function quickchart(key) {\n",
              "      const quickchartButtonEl =\n",
              "        document.querySelector('#' + key + ' button');\n",
              "      quickchartButtonEl.disabled = true;  // To prevent multiple clicks.\n",
              "      quickchartButtonEl.classList.add('colab-df-spinner');\n",
              "      try {\n",
              "        const charts = await google.colab.kernel.invokeFunction(\n",
              "            'suggestCharts', [key], {});\n",
              "      } catch (error) {\n",
              "        console.error('Error during call to suggestCharts:', error);\n",
              "      }\n",
              "      quickchartButtonEl.classList.remove('colab-df-spinner');\n",
              "      quickchartButtonEl.classList.add('colab-df-quickchart-complete');\n",
              "    }\n",
              "    (() => {\n",
              "      let quickchartButtonEl =\n",
              "        document.querySelector('#df-7be0a21b-7fc1-4a1c-a4d7-2d8ec792ed8e button');\n",
              "      quickchartButtonEl.style.display =\n",
              "        google.colab.kernel.accessAllowed ? 'block' : 'none';\n",
              "    })();\n",
              "  </script>\n",
              "</div>\n",
              "    </div>\n",
              "  </div>\n"
            ]
          },
          "metadata": {},
          "execution_count": 9
        }
      ]
    },
    {
      "cell_type": "markdown",
      "source": [
        "# Fault Taxonomy"
      ],
      "metadata": {
        "id": "EWWheqHvDJrC"
      }
    },
    {
      "cell_type": "code",
      "source": [
        "grouped_dataset=final_dataset.groupby([\"Equipment\", \"SubEquipment\", \"Down Time Issue\",\"Issue\",\"Action\"],as_index=False).agg(Action_count=(\"Action\",\"count\"))"
      ],
      "metadata": {
        "id": "bbtkxCZw6mj_"
      },
      "execution_count": null,
      "outputs": []
    },
    {
      "cell_type": "code",
      "source": [
        "grouped_dataset"
      ],
      "metadata": {
        "id": "J_UHKGfyp0ex",
        "colab": {
          "base_uri": "https://localhost:8080/",
          "height": 493
        },
        "outputId": "81c27f12-af8c-4661-fc05-365c1eb1238b"
      },
      "execution_count": null,
      "outputs": [
        {
          "output_type": "execute_result",
          "data": {
            "text/plain": [
              "       Equipment SubEquipment  \\\n",
              "0    Accumulator  Accumulator   \n",
              "1            CCM          CCM   \n",
              "2            CCM          CCM   \n",
              "3            CCM          CCM   \n",
              "4            CCM          CCM   \n",
              "..           ...          ...   \n",
              "550    uli unit     uli unit    \n",
              "551    uli unit     uli unit    \n",
              "552    uli unit     uli unit    \n",
              "553    uli unit     uli unit    \n",
              "554    uli unit     uli unit    \n",
              "\n",
              "                                         Down Time Issue  \\\n",
              "0    hydrulic oil leakage from aquimlater cylinder hose    \n",
              "1                             Spigot metal guard welding   \n",
              "2                                       Under mechanical   \n",
              "3                                bogie wheel adjustment    \n",
              "4                                    bogie wheel change    \n",
              "..                                                   ...   \n",
              "550                         dry powder uli dropping prob   \n",
              "551                         dry powder uli dropping prob   \n",
              "552                         dry powder uli dropping prob   \n",
              "553                               dry uli dropping prob    \n",
              "554                               dry uli dropping prob    \n",
              "\n",
              "                                                                                                                           Issue  \\\n",
              "0    Huge Oil Leakage from MTC stand Accumulator Dummy Fitting as fitting came out while it was tried to tighten as it was loose   \n",
              "1                                                                                                      Boggie spt chute fell off   \n",
              "2                                                                                          Core Loader - Sand Stick on Pipe Face   \n",
              "3                                                                                                    Sleeve Change (As per Plan)   \n",
              "4                                                                                                                     Pipe drawn   \n",
              "..                                                                                                                           ...   \n",
              "550                                                                                                      Dry Powder Feed Problem   \n",
              "551                                                                                                      Dry Powder Feed Problem   \n",
              "552                                                                                     Dry Powder pipe hole position metal Jam    \n",
              "553                                                                                                Dry Powder discontinuous Flow   \n",
              "554                                                                                 Dry Powder was not falling from Screw Feeder   \n",
              "\n",
              "                                                                                                                                      Action  \\\n",
              "0                                                                                            Spare fitting was not fitting so Fitting Welded   \n",
              "1                                                                                                            spt chute fitted after cleaning   \n",
              "2                                                                                          Core Loader Changed and Aligned. Compression 15mm   \n",
              "3    1. Bogie Wheel A-side both wheel packing done (5mm Ring)\\n2. All Wheel Ploy Check\\n3. Extractor Centering from Bore\\n4. MTC Gland Tight   \n",
              "4                                                                                    a side both skt and spt flat wheel with collar replaced   \n",
              "..                                                                                                                                       ...   \n",
              "550    Screw Changing work done with lock nut adjusted but not sloved so powder pipe loose nipple position hole decreased by washer welding    \n",
              "551                  Screw feeder pipe line fitted and trial NOT OK so screw check nut adjusted and thread sleeve lock by welding & trial OK   \n",
              "552                                                                                                           Metal Cleaned & trial taken OK   \n",
              "553                                                                                   Screw Feeder adjusting Nut adjusted & vibrator changed   \n",
              "554                                                                           Hopper & pipeline hammered then small amount of powder falling   \n",
              "\n",
              "     Action_count  \n",
              "0               1  \n",
              "1               1  \n",
              "2               1  \n",
              "3               1  \n",
              "4               1  \n",
              "..            ...  \n",
              "550             1  \n",
              "551             1  \n",
              "552             1  \n",
              "553             1  \n",
              "554             1  \n",
              "\n",
              "[555 rows x 6 columns]"
            ],
            "text/html": [
              "\n",
              "  <div id=\"df-7e135ab0-0e62-4dad-b6dc-6522af3095e5\" class=\"colab-df-container\">\n",
              "    <div>\n",
              "<style scoped>\n",
              "    .dataframe tbody tr th:only-of-type {\n",
              "        vertical-align: middle;\n",
              "    }\n",
              "\n",
              "    .dataframe tbody tr th {\n",
              "        vertical-align: top;\n",
              "    }\n",
              "\n",
              "    .dataframe thead th {\n",
              "        text-align: right;\n",
              "    }\n",
              "</style>\n",
              "<table border=\"1\" class=\"dataframe\">\n",
              "  <thead>\n",
              "    <tr style=\"text-align: right;\">\n",
              "      <th></th>\n",
              "      <th>Equipment</th>\n",
              "      <th>SubEquipment</th>\n",
              "      <th>Down Time Issue</th>\n",
              "      <th>Issue</th>\n",
              "      <th>Action</th>\n",
              "      <th>Action_count</th>\n",
              "    </tr>\n",
              "  </thead>\n",
              "  <tbody>\n",
              "    <tr>\n",
              "      <th>0</th>\n",
              "      <td>Accumulator</td>\n",
              "      <td>Accumulator</td>\n",
              "      <td>hydrulic oil leakage from aquimlater cylinder hose</td>\n",
              "      <td>Huge Oil Leakage from MTC stand Accumulator Dummy Fitting as fitting came out while it was tried to tighten as it was loose</td>\n",
              "      <td>Spare fitting was not fitting so Fitting Welded</td>\n",
              "      <td>1</td>\n",
              "    </tr>\n",
              "    <tr>\n",
              "      <th>1</th>\n",
              "      <td>CCM</td>\n",
              "      <td>CCM</td>\n",
              "      <td>Spigot metal guard welding</td>\n",
              "      <td>Boggie spt chute fell off</td>\n",
              "      <td>spt chute fitted after cleaning</td>\n",
              "      <td>1</td>\n",
              "    </tr>\n",
              "    <tr>\n",
              "      <th>2</th>\n",
              "      <td>CCM</td>\n",
              "      <td>CCM</td>\n",
              "      <td>Under mechanical</td>\n",
              "      <td>Core Loader - Sand Stick on Pipe Face</td>\n",
              "      <td>Core Loader Changed and Aligned. Compression 15mm</td>\n",
              "      <td>1</td>\n",
              "    </tr>\n",
              "    <tr>\n",
              "      <th>3</th>\n",
              "      <td>CCM</td>\n",
              "      <td>CCM</td>\n",
              "      <td>bogie wheel adjustment</td>\n",
              "      <td>Sleeve Change (As per Plan)</td>\n",
              "      <td>1. Bogie Wheel A-side both wheel packing done (5mm Ring)\\n2. All Wheel Ploy Check\\n3. Extractor Centering from Bore\\n4. MTC Gland Tight</td>\n",
              "      <td>1</td>\n",
              "    </tr>\n",
              "    <tr>\n",
              "      <th>4</th>\n",
              "      <td>CCM</td>\n",
              "      <td>CCM</td>\n",
              "      <td>bogie wheel change</td>\n",
              "      <td>Pipe drawn</td>\n",
              "      <td>a side both skt and spt flat wheel with collar replaced</td>\n",
              "      <td>1</td>\n",
              "    </tr>\n",
              "    <tr>\n",
              "      <th>...</th>\n",
              "      <td>...</td>\n",
              "      <td>...</td>\n",
              "      <td>...</td>\n",
              "      <td>...</td>\n",
              "      <td>...</td>\n",
              "      <td>...</td>\n",
              "    </tr>\n",
              "    <tr>\n",
              "      <th>550</th>\n",
              "      <td>uli unit</td>\n",
              "      <td>uli unit</td>\n",
              "      <td>dry powder uli dropping prob</td>\n",
              "      <td>Dry Powder Feed Problem</td>\n",
              "      <td>Screw Changing work done with lock nut adjusted but not sloved so powder pipe loose nipple position hole decreased by washer welding</td>\n",
              "      <td>1</td>\n",
              "    </tr>\n",
              "    <tr>\n",
              "      <th>551</th>\n",
              "      <td>uli unit</td>\n",
              "      <td>uli unit</td>\n",
              "      <td>dry powder uli dropping prob</td>\n",
              "      <td>Dry Powder Feed Problem</td>\n",
              "      <td>Screw feeder pipe line fitted and trial NOT OK so screw check nut adjusted and thread sleeve lock by welding &amp; trial OK</td>\n",
              "      <td>1</td>\n",
              "    </tr>\n",
              "    <tr>\n",
              "      <th>552</th>\n",
              "      <td>uli unit</td>\n",
              "      <td>uli unit</td>\n",
              "      <td>dry powder uli dropping prob</td>\n",
              "      <td>Dry Powder pipe hole position metal Jam</td>\n",
              "      <td>Metal Cleaned &amp; trial taken OK</td>\n",
              "      <td>1</td>\n",
              "    </tr>\n",
              "    <tr>\n",
              "      <th>553</th>\n",
              "      <td>uli unit</td>\n",
              "      <td>uli unit</td>\n",
              "      <td>dry uli dropping prob</td>\n",
              "      <td>Dry Powder discontinuous Flow</td>\n",
              "      <td>Screw Feeder adjusting Nut adjusted &amp; vibrator changed</td>\n",
              "      <td>1</td>\n",
              "    </tr>\n",
              "    <tr>\n",
              "      <th>554</th>\n",
              "      <td>uli unit</td>\n",
              "      <td>uli unit</td>\n",
              "      <td>dry uli dropping prob</td>\n",
              "      <td>Dry Powder was not falling from Screw Feeder</td>\n",
              "      <td>Hopper &amp; pipeline hammered then small amount of powder falling</td>\n",
              "      <td>1</td>\n",
              "    </tr>\n",
              "  </tbody>\n",
              "</table>\n",
              "<p>555 rows × 6 columns</p>\n",
              "</div>\n",
              "    <div class=\"colab-df-buttons\">\n",
              "\n",
              "  <div class=\"colab-df-container\">\n",
              "    <button class=\"colab-df-convert\" onclick=\"convertToInteractive('df-7e135ab0-0e62-4dad-b6dc-6522af3095e5')\"\n",
              "            title=\"Convert this dataframe to an interactive table.\"\n",
              "            style=\"display:none;\">\n",
              "\n",
              "  <svg xmlns=\"http://www.w3.org/2000/svg\" height=\"24px\" viewBox=\"0 -960 960 960\">\n",
              "    <path d=\"M120-120v-720h720v720H120Zm60-500h600v-160H180v160Zm220 220h160v-160H400v160Zm0 220h160v-160H400v160ZM180-400h160v-160H180v160Zm440 0h160v-160H620v160ZM180-180h160v-160H180v160Zm440 0h160v-160H620v160Z\"/>\n",
              "  </svg>\n",
              "    </button>\n",
              "\n",
              "  <style>\n",
              "    .colab-df-container {\n",
              "      display:flex;\n",
              "      gap: 12px;\n",
              "    }\n",
              "\n",
              "    .colab-df-convert {\n",
              "      background-color: #E8F0FE;\n",
              "      border: none;\n",
              "      border-radius: 50%;\n",
              "      cursor: pointer;\n",
              "      display: none;\n",
              "      fill: #1967D2;\n",
              "      height: 32px;\n",
              "      padding: 0 0 0 0;\n",
              "      width: 32px;\n",
              "    }\n",
              "\n",
              "    .colab-df-convert:hover {\n",
              "      background-color: #E2EBFA;\n",
              "      box-shadow: 0px 1px 2px rgba(60, 64, 67, 0.3), 0px 1px 3px 1px rgba(60, 64, 67, 0.15);\n",
              "      fill: #174EA6;\n",
              "    }\n",
              "\n",
              "    .colab-df-buttons div {\n",
              "      margin-bottom: 4px;\n",
              "    }\n",
              "\n",
              "    [theme=dark] .colab-df-convert {\n",
              "      background-color: #3B4455;\n",
              "      fill: #D2E3FC;\n",
              "    }\n",
              "\n",
              "    [theme=dark] .colab-df-convert:hover {\n",
              "      background-color: #434B5C;\n",
              "      box-shadow: 0px 1px 3px 1px rgba(0, 0, 0, 0.15);\n",
              "      filter: drop-shadow(0px 1px 2px rgba(0, 0, 0, 0.3));\n",
              "      fill: #FFFFFF;\n",
              "    }\n",
              "  </style>\n",
              "\n",
              "    <script>\n",
              "      const buttonEl =\n",
              "        document.querySelector('#df-7e135ab0-0e62-4dad-b6dc-6522af3095e5 button.colab-df-convert');\n",
              "      buttonEl.style.display =\n",
              "        google.colab.kernel.accessAllowed ? 'block' : 'none';\n",
              "\n",
              "      async function convertToInteractive(key) {\n",
              "        const element = document.querySelector('#df-7e135ab0-0e62-4dad-b6dc-6522af3095e5');\n",
              "        const dataTable =\n",
              "          await google.colab.kernel.invokeFunction('convertToInteractive',\n",
              "                                                    [key], {});\n",
              "        if (!dataTable) return;\n",
              "\n",
              "        const docLinkHtml = 'Like what you see? Visit the ' +\n",
              "          '<a target=\"_blank\" href=https://colab.research.google.com/notebooks/data_table.ipynb>data table notebook</a>'\n",
              "          + ' to learn more about interactive tables.';\n",
              "        element.innerHTML = '';\n",
              "        dataTable['output_type'] = 'display_data';\n",
              "        await google.colab.output.renderOutput(dataTable, element);\n",
              "        const docLink = document.createElement('div');\n",
              "        docLink.innerHTML = docLinkHtml;\n",
              "        element.appendChild(docLink);\n",
              "      }\n",
              "    </script>\n",
              "  </div>\n",
              "\n",
              "\n",
              "<div id=\"df-ed5b4a05-ca87-453c-b7b5-c57c7b4dba41\">\n",
              "  <button class=\"colab-df-quickchart\" onclick=\"quickchart('df-ed5b4a05-ca87-453c-b7b5-c57c7b4dba41')\"\n",
              "            title=\"Suggest charts\"\n",
              "            style=\"display:none;\">\n",
              "\n",
              "<svg xmlns=\"http://www.w3.org/2000/svg\" height=\"24px\"viewBox=\"0 0 24 24\"\n",
              "     width=\"24px\">\n",
              "    <g>\n",
              "        <path d=\"M19 3H5c-1.1 0-2 .9-2 2v14c0 1.1.9 2 2 2h14c1.1 0 2-.9 2-2V5c0-1.1-.9-2-2-2zM9 17H7v-7h2v7zm4 0h-2V7h2v10zm4 0h-2v-4h2v4z\"/>\n",
              "    </g>\n",
              "</svg>\n",
              "  </button>\n",
              "\n",
              "<style>\n",
              "  .colab-df-quickchart {\n",
              "      --bg-color: #E8F0FE;\n",
              "      --fill-color: #1967D2;\n",
              "      --hover-bg-color: #E2EBFA;\n",
              "      --hover-fill-color: #174EA6;\n",
              "      --disabled-fill-color: #AAA;\n",
              "      --disabled-bg-color: #DDD;\n",
              "  }\n",
              "\n",
              "  [theme=dark] .colab-df-quickchart {\n",
              "      --bg-color: #3B4455;\n",
              "      --fill-color: #D2E3FC;\n",
              "      --hover-bg-color: #434B5C;\n",
              "      --hover-fill-color: #FFFFFF;\n",
              "      --disabled-bg-color: #3B4455;\n",
              "      --disabled-fill-color: #666;\n",
              "  }\n",
              "\n",
              "  .colab-df-quickchart {\n",
              "    background-color: var(--bg-color);\n",
              "    border: none;\n",
              "    border-radius: 50%;\n",
              "    cursor: pointer;\n",
              "    display: none;\n",
              "    fill: var(--fill-color);\n",
              "    height: 32px;\n",
              "    padding: 0;\n",
              "    width: 32px;\n",
              "  }\n",
              "\n",
              "  .colab-df-quickchart:hover {\n",
              "    background-color: var(--hover-bg-color);\n",
              "    box-shadow: 0 1px 2px rgba(60, 64, 67, 0.3), 0 1px 3px 1px rgba(60, 64, 67, 0.15);\n",
              "    fill: var(--button-hover-fill-color);\n",
              "  }\n",
              "\n",
              "  .colab-df-quickchart-complete:disabled,\n",
              "  .colab-df-quickchart-complete:disabled:hover {\n",
              "    background-color: var(--disabled-bg-color);\n",
              "    fill: var(--disabled-fill-color);\n",
              "    box-shadow: none;\n",
              "  }\n",
              "\n",
              "  .colab-df-spinner {\n",
              "    border: 2px solid var(--fill-color);\n",
              "    border-color: transparent;\n",
              "    border-bottom-color: var(--fill-color);\n",
              "    animation:\n",
              "      spin 1s steps(1) infinite;\n",
              "  }\n",
              "\n",
              "  @keyframes spin {\n",
              "    0% {\n",
              "      border-color: transparent;\n",
              "      border-bottom-color: var(--fill-color);\n",
              "      border-left-color: var(--fill-color);\n",
              "    }\n",
              "    20% {\n",
              "      border-color: transparent;\n",
              "      border-left-color: var(--fill-color);\n",
              "      border-top-color: var(--fill-color);\n",
              "    }\n",
              "    30% {\n",
              "      border-color: transparent;\n",
              "      border-left-color: var(--fill-color);\n",
              "      border-top-color: var(--fill-color);\n",
              "      border-right-color: var(--fill-color);\n",
              "    }\n",
              "    40% {\n",
              "      border-color: transparent;\n",
              "      border-right-color: var(--fill-color);\n",
              "      border-top-color: var(--fill-color);\n",
              "    }\n",
              "    60% {\n",
              "      border-color: transparent;\n",
              "      border-right-color: var(--fill-color);\n",
              "    }\n",
              "    80% {\n",
              "      border-color: transparent;\n",
              "      border-right-color: var(--fill-color);\n",
              "      border-bottom-color: var(--fill-color);\n",
              "    }\n",
              "    90% {\n",
              "      border-color: transparent;\n",
              "      border-bottom-color: var(--fill-color);\n",
              "    }\n",
              "  }\n",
              "</style>\n",
              "\n",
              "  <script>\n",
              "    async function quickchart(key) {\n",
              "      const quickchartButtonEl =\n",
              "        document.querySelector('#' + key + ' button');\n",
              "      quickchartButtonEl.disabled = true;  // To prevent multiple clicks.\n",
              "      quickchartButtonEl.classList.add('colab-df-spinner');\n",
              "      try {\n",
              "        const charts = await google.colab.kernel.invokeFunction(\n",
              "            'suggestCharts', [key], {});\n",
              "      } catch (error) {\n",
              "        console.error('Error during call to suggestCharts:', error);\n",
              "      }\n",
              "      quickchartButtonEl.classList.remove('colab-df-spinner');\n",
              "      quickchartButtonEl.classList.add('colab-df-quickchart-complete');\n",
              "    }\n",
              "    (() => {\n",
              "      let quickchartButtonEl =\n",
              "        document.querySelector('#df-ed5b4a05-ca87-453c-b7b5-c57c7b4dba41 button');\n",
              "      quickchartButtonEl.style.display =\n",
              "        google.colab.kernel.accessAllowed ? 'block' : 'none';\n",
              "    })();\n",
              "  </script>\n",
              "</div>\n",
              "    </div>\n",
              "  </div>\n"
            ]
          },
          "metadata": {},
          "execution_count": 11
        }
      ]
    },
    {
      "cell_type": "markdown",
      "metadata": {
        "id": "7nO3qBuIB0QR"
      },
      "source": [
        "# Prompt Engineering"
      ]
    },
    {
      "cell_type": "code",
      "source": [
        "grouped_columns=grouped_dataset.columns.values.tolist()"
      ],
      "metadata": {
        "id": "ytdbO-1ljhgd"
      },
      "execution_count": null,
      "outputs": []
    },
    {
      "cell_type": "code",
      "source": [
        "grouped_columns"
      ],
      "metadata": {
        "id": "Tisfwojnwe8Z",
        "colab": {
          "base_uri": "https://localhost:8080/"
        },
        "outputId": "dcb6cf04-e658-4e95-c480-53b3b6c372c4"
      },
      "execution_count": null,
      "outputs": [
        {
          "output_type": "execute_result",
          "data": {
            "text/plain": [
              "['Equipment',\n",
              " 'SubEquipment',\n",
              " 'Down Time Issue',\n",
              " 'Issue',\n",
              " 'Action',\n",
              " 'Action_count']"
            ]
          },
          "metadata": {},
          "execution_count": 13
        }
      ]
    },
    {
      "cell_type": "code",
      "source": [
        "filtered_dataset=[]\n",
        "for i in range(len(grouped_dataset)):\n",
        "    inp=f\"The solution to resolve the issue {grouped_dataset.loc[i,grouped_columns[3]]} is {grouped_dataset.loc[i,grouped_columns[4]]}\"\n",
        "    filtered_dataset.append(inp)"
      ],
      "metadata": {
        "id": "Y2Vd8PbVmNHf"
      },
      "execution_count": null,
      "outputs": []
    },
    {
      "cell_type": "code",
      "execution_count": null,
      "metadata": {
        "id": "32OsOdj9mt7z"
      },
      "outputs": [],
      "source": [
        "corpus=filtered_dataset"
      ]
    },
    {
      "cell_type": "code",
      "execution_count": null,
      "metadata": {
        "id": "skJb2XAwmkRv"
      },
      "outputs": [],
      "source": [
        "from keras.preprocessing.text import Tokenizer\n",
        "tokenizer=Tokenizer()"
      ]
    },
    {
      "cell_type": "code",
      "execution_count": null,
      "metadata": {
        "id": "M1tOpgbYl7SD"
      },
      "outputs": [],
      "source": [
        "def get_sequence_of_tokens(corpus):\n",
        "    ## tokenization\n",
        "    tokenizer.fit_on_texts(corpus)\n",
        "\n",
        "    total_words = len(tokenizer.word_index) + 1\n",
        "\n",
        "    ## convert data to a token sequence\n",
        "    input_sequences = []\n",
        "    for issue in corpus:\n",
        "        token_list = tokenizer.texts_to_sequences([issue])[0]\n",
        "        for i in range(1, len(token_list)):\n",
        "            n_gram_sequence = token_list[:i+1]\n",
        "            input_sequences.append(n_gram_sequence)\n",
        "    return input_sequences, total_words\n",
        "inp_sequences, total_words = get_sequence_of_tokens(corpus)\n"
      ]
    },
    {
      "cell_type": "code",
      "execution_count": null,
      "metadata": {
        "id": "LgYvNZyXoO31",
        "colab": {
          "base_uri": "https://localhost:8080/"
        },
        "outputId": "e5315e38-8090-407d-8433-4307583cdb14"
      },
      "outputs": [
        {
          "output_type": "execute_result",
          "data": {
            "text/plain": [
              "770"
            ]
          },
          "metadata": {},
          "execution_count": 18
        }
      ],
      "source": [
        "total_words"
      ]
    },
    {
      "cell_type": "markdown",
      "metadata": {
        "id": "AS8T1vUKoYJz"
      },
      "source": [
        "Padding the sequence"
      ]
    },
    {
      "cell_type": "code",
      "execution_count": null,
      "metadata": {
        "id": "3CCJOhGSpIEH"
      },
      "outputs": [],
      "source": [
        "from keras.utils import pad_sequences\n",
        "import keras.utils as ku"
      ]
    },
    {
      "cell_type": "code",
      "execution_count": null,
      "metadata": {
        "id": "A0Zvdxa2oc2P"
      },
      "outputs": [],
      "source": [
        "\n",
        "def generate_padded_sequences(input_sequences):\n",
        "    max_sequence_len = max([len(x) for x in input_sequences])\n",
        "    print(max_sequence_len)\n",
        "    input_sequences = np.array(pad_sequences(input_sequences, maxlen=max_sequence_len, padding='pre'))\n",
        "\n",
        "    predictors, label = input_sequences[:,:-1],input_sequences[:,-1]\n",
        "    label = ku.to_categorical(label, num_classes=total_words)\n",
        "\n",
        "    return predictors, label, max_sequence_len\n"
      ]
    },
    {
      "cell_type": "code",
      "execution_count": null,
      "metadata": {
        "id": "cMllQRQFqEDm",
        "colab": {
          "base_uri": "https://localhost:8080/"
        },
        "outputId": "ff8b567e-d9c5-4bfe-c319-ac1b5f3c62a4"
      },
      "outputs": [
        {
          "output_type": "stream",
          "name": "stdout",
          "text": [
            "56\n"
          ]
        }
      ],
      "source": [
        "predictors, label, max_sequence_len = generate_padded_sequences(inp_sequences)"
      ]
    },
    {
      "cell_type": "markdown",
      "metadata": {
        "id": "Rep7JboIo6Wd"
      },
      "source": [
        "# Model training and hyperparameter tuning"
      ]
    },
    {
      "cell_type": "code",
      "execution_count": null,
      "metadata": {
        "id": "jkH73nSLJLZC"
      },
      "outputs": [],
      "source": [
        "\n",
        "# Keras models are used to work with Neural networks\n",
        "from keras.layers import Embedding, LSTM, Bidirectional,Dense, Dropout\n",
        "from keras.preprocessing.text import Tokenizer\n",
        "from keras.callbacks import EarlyStopping\n",
        "from keras.models import Sequential\n",
        "\n",
        "def create_model(max_sequence_len, total_words, vector_size, units, dropout):\n",
        "    input_len = max_sequence_len - 1\n",
        "    model = Sequential()\n",
        "    # Add Input Embedding Layer\n",
        "    model.add(Embedding(total_words, vector_size, input_length=input_len))\n",
        "    # Add Hidden Layer 1 - LSTM Layer\n",
        "    # model.add(LSTM(units))\n",
        "    model.add(Bidirectional(LSTM(units, return_sequences=True)))\n",
        "    model.add(Bidirectional(LSTM(units)))\n",
        "    #set the 10% of activation of neurons to zero to prevent overfitting - regularization technique\n",
        "    model.add(Dropout(dropout))\n",
        "    # Add Output Layer\n",
        "    model.add(Dense(total_words, activation='softmax'))\n",
        "    model.compile(loss='categorical_crossentropy', optimizer='adam',metrics=['accuracy'])\n",
        "    return model\n"
      ]
    },
    {
      "cell_type": "code",
      "execution_count": null,
      "metadata": {
        "id": "0aoLTEzdf7rT"
      },
      "outputs": [],
      "source": [
        "vector_size=100\n",
        "units=128\n",
        "dropout=0.1\n",
        "\n",
        "model=create_model(max_sequence_len,total_words, vector_size,units, dropout)\n",
        "model.fit(predictors, label, epochs=20,verbose=1)\n",
        "loss, accuracy = model.evaluate(predictors, label)\n"
      ]
    },
    {
      "cell_type": "code",
      "execution_count": null,
      "metadata": {
        "id": "ZDgZ2EUlSCfy"
      },
      "outputs": [],
      "source": [
        "model.save('model.h5')"
      ]
    },
    {
      "cell_type": "markdown",
      "metadata": {
        "id": "abHG3ngzx0J8"
      },
      "source": [
        "# Inference"
      ]
    },
    {
      "cell_type": "code",
      "source": [
        "final_columns[3]"
      ],
      "metadata": {
        "colab": {
          "base_uri": "https://localhost:8080/",
          "height": 36
        },
        "id": "guCHNkrmjheA",
        "outputId": "45242bb7-c095-471e-9617-05ff9f7bf23a"
      },
      "execution_count": null,
      "outputs": [
        {
          "output_type": "execute_result",
          "data": {
            "text/plain": [
              "'Issue'"
            ],
            "application/vnd.google.colaboratory.intrinsic+json": {
              "type": "string"
            }
          },
          "metadata": {},
          "execution_count": 25
        }
      ]
    },
    {
      "cell_type": "code",
      "execution_count": null,
      "metadata": {
        "id": "BiovxkABIuUQ"
      },
      "outputs": [],
      "source": [
        "inp=f'''What is the solution to resolve the issue {final_dataset.loc[10, final_columns[3]]}'''"
      ]
    },
    {
      "cell_type": "code",
      "execution_count": null,
      "metadata": {
        "id": "FjtVzvkc_DAj"
      },
      "outputs": [],
      "source": [
        "\n",
        "def generate_text(seed_text, next_words, model, max_sequence_len):\n",
        "    for _ in range(next_words):\n",
        "        token_list = tokenizer.texts_to_sequences([seed_text])[0]\n",
        "        token_list = pad_sequences([token_list], maxlen=max_sequence_len-1, padding='pre')\n",
        "        #predicted = model.predict_classes(token_list, verbose=0)\n",
        "        predict_x=model.predict(token_list, verbose=0)\n",
        "        classes_x=np.argmax(predict_x,axis=1)\n",
        "        print(classes_x)\n",
        "\n",
        "        output_word = \"\"\n",
        "        for word,index in tokenizer.word_index.items():\n",
        "            if index == classes_x:\n",
        "                output_word = word\n",
        "                break\n",
        "        seed_text += \" \"+output_word\n",
        "    return seed_text.title()"
      ]
    },
    {
      "cell_type": "code",
      "execution_count": null,
      "metadata": {
        "id": "mA_bhkZgtRQv",
        "colab": {
          "base_uri": "https://localhost:8080/"
        },
        "outputId": "b1bd369b-2e7f-4aa8-f39e-f783734b79a9"
      },
      "outputs": [
        {
          "output_type": "stream",
          "name": "stdout",
          "text": [
            "issue: what is the solution to resolve the issue a side trough supporting roller\n",
            "Solution: roller changed\n",
            "[23]\n",
            "[6]\n",
            "[17]\n",
            "[7]\n",
            "What Is The Solution To Resolve The Issue A Side Trough Supporting Roller Jam Is Roller Changed\n"
          ]
        }
      ],
      "source": [
        "print(\"issue: \" + inp.lower())\n",
        "print(\"Solution: \"+final_dataset.loc[10, final_columns[4]])\n",
        "print (generate_text(inp.lower(), 4, model, max_sequence_len))"
      ]
    },
    {
      "cell_type": "code",
      "source": [],
      "metadata": {
        "id": "iIXRui8Wj7jY"
      },
      "execution_count": null,
      "outputs": []
    }
  ],
  "metadata": {
    "colab": {
      "provenance": [],
      "gpuType": "T4"
    },
    "kernelspec": {
      "display_name": "Python 3",
      "name": "python3"
    },
    "language_info": {
      "name": "python"
    },
    "accelerator": "GPU"
  },
  "nbformat": 4,
  "nbformat_minor": 0
}